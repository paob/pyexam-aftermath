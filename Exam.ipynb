{
 "cells": [
  {
   "cell_type": "markdown",
   "metadata": {},
   "source": [
    "# Algorithms on linked lists\n",
    "\n",
    "We use the `List` class defined as follows. For convenience we implement the `__str__` method which lets us use the built-in `print` function.\n",
    "```python\n",
    "example_list = List(24)\n",
    "print(example_list)\n",
    "```\n",
    "```\n",
    ">>> ~[ 24 ]~\n",
    "```"
   ]
  },
  {
   "cell_type": "code",
   "execution_count": null,
   "metadata": {},
   "outputs": [],
   "source": [
    "class List:\n",
    "    def __init__(self, data):\n",
    "        '''\n",
    "        Linked list containing input data.\n",
    "        '''\n",
    "        self.data = data\n",
    "        self.next = None\n",
    "        \n",
    "    def __str__(self):\n",
    "        '''\n",
    "        String representation of a linked list.\n",
    "        '''\n",
    "        values = '~['\n",
    "        l = self\n",
    "        while l is not None:\n",
    "            values +=  f' {l.data} '\n",
    "            l = l.next\n",
    "        values += ']~'\n",
    "        return values"
   ]
  },
  {
   "cell_type": "code",
   "execution_count": null,
   "metadata": {},
   "outputs": [],
   "source": [
    "my_list = List(1)\n",
    "my_list.next = List(6)\n",
    "my_list.next.next = List(3)"
   ]
  },
  {
   "cell_type": "code",
   "execution_count": null,
   "metadata": {},
   "outputs": [],
   "source": [
    "print(my_list)"
   ]
  },
  {
   "cell_type": "code",
   "execution_count": null,
   "metadata": {},
   "outputs": [],
   "source": [
    "def as_linked_list(container):\n",
    "    '''\n",
    "    Create a linked list representation of a given container.\n",
    "    \n",
    "    Parameters\n",
    "    ----------\n",
    "    container: any object supporting the 'for ... in ...' syntax.\n",
    "    \n",
    "    Returns\n",
    "    -------\n",
    "    List\n",
    "        a 'List' of the contained elements.\n",
    "    '''\n",
    "    head = List(None)\n",
    "    result = head\n",
    "    for i in container:\n",
    "        result.next = List(i)\n",
    "        result = result.next\n",
    "    return head.next"
   ]
  },
  {
   "cell_type": "code",
   "execution_count": null,
   "metadata": {},
   "outputs": [],
   "source": [
    "print(as_linked_list(range(5)))"
   ]
  },
  {
   "cell_type": "markdown",
   "metadata": {},
   "source": [
    "## Compute the sum of even numbers from a list\n",
    "\n",
    "We start by defining our version of `filter`."
   ]
  },
  {
   "cell_type": "code",
   "execution_count": null,
   "metadata": {},
   "outputs": [],
   "source": [
    "def filtered_by(condition, l):\n",
    "    '''\n",
    "    List all elements that fulfill the condition.\n",
    "    \n",
    "    Parameters\n",
    "    ----------\n",
    "    condition: function of type (List -> bool).\n",
    "    \n",
    "    l: List to be filtered\n",
    "    \n",
    "    Returns\n",
    "    -------\n",
    "    List\n",
    "        containing the elements for which the condition is True.\n",
    "    \n",
    "    Notes\n",
    "    -----\n",
    "    If no element fulfills the condition, the returned list will be empty.\n",
    "    '''\n",
    "    head = List(None)\n",
    "    result = head\n",
    "    while l is not None:\n",
    "        if condition(l):\n",
    "            result.next = List(l.data)\n",
    "            result = result.next\n",
    "        l = l.next\n",
    "    return head.next"
   ]
  },
  {
   "cell_type": "code",
   "execution_count": null,
   "metadata": {},
   "outputs": [],
   "source": [
    "print(my_list)\n",
    "print(filtered_by(lambda x: x.data % 2 == 1, my_list))"
   ]
  },
  {
   "cell_type": "markdown",
   "metadata": {},
   "source": [
    "We also define a version of `itertools.reduce` that works on `List`s."
   ]
  },
  {
   "cell_type": "code",
   "execution_count": null,
   "metadata": {},
   "outputs": [],
   "source": [
    "def reduce_with(operation, l, init):\n",
    "    '''\n",
    "    Accumulate elements from a list with an operation starting from a given value.\n",
    "    \n",
    "    Parameters\n",
    "    ----------\n",
    "    operation: function of type (t, t -> t)\n",
    "    \n",
    "    l: List of elements of type t\n",
    "    \n",
    "    init: value fo type t\n",
    "    \n",
    "    Returns\n",
    "    -------\n",
    "    value of type t\n",
    "        given a list of elements [a1, a2, ..., aN] and\n",
    "        writing x * y for operation(x, y)\n",
    "        computes the following expression:\n",
    "        (...((init * a1) * a2) ... * aN)\n",
    "    '''\n",
    "    result = init\n",
    "    while l is not None:\n",
    "        result = operation(result, l.data)\n",
    "        l = l.next\n",
    "    return result"
   ]
  },
  {
   "cell_type": "markdown",
   "metadata": {},
   "source": [
    "The sum and the product of elements in a list are easy to define with `reduce_with`."
   ]
  },
  {
   "cell_type": "code",
   "execution_count": null,
   "metadata": {},
   "outputs": [],
   "source": [
    "def summed(l):\n",
    "    '''\n",
    "    Sum elements of a list of numbers.\n",
    "    \n",
    "    Parameters\n",
    "    ----------\n",
    "    l: List of elements that support 'lambda x: x + 0'.\n",
    "    \n",
    "    Returns\n",
    "    -------\n",
    "    value of one of the number types\n",
    "        the sum.\n",
    "    \n",
    "    Notes\n",
    "    -----\n",
    "    - the neutral element for addition is 0.\n",
    "    - if values are of different number types, the most general will be used.\n",
    "    '''\n",
    "    return reduce_with(lambda a, b: a + b, l, 0)\n",
    "\n",
    "def multiplied(l):\n",
    "    '''\n",
    "    Multiply elements of a list of numbers.\n",
    "    \n",
    "    Parameters\n",
    "    ----------\n",
    "    l: List of elements that support 'lambda x: x * 1'.\n",
    "    \n",
    "    Returns\n",
    "    -------\n",
    "    value of one of the number types\n",
    "        the product.\n",
    "    \n",
    "    Notes\n",
    "    -----\n",
    "    - the neutral element for multiplication is 1.\n",
    "    - if values are of different number types, the most general type will be used.\n",
    "    '''\n",
    "    return reduce_with(lambda a, b: a * b, l, 1)"
   ]
  },
  {
   "cell_type": "code",
   "execution_count": null,
   "metadata": {},
   "outputs": [],
   "source": [
    "print(my_list)\n",
    "print('sum:', summed(my_list), 'product:', multiplied(my_list))"
   ]
  },
  {
   "cell_type": "markdown",
   "metadata": {},
   "source": [
    "We can now get the sum of even numbers by summing over a filtered list."
   ]
  },
  {
   "cell_type": "code",
   "execution_count": null,
   "metadata": {},
   "outputs": [],
   "source": [
    "def sum_even_numbers(l):\n",
    "    '''\n",
    "    Sum the even integers of a list of numbers.\n",
    "    \n",
    "    Parameters\n",
    "    ----------\n",
    "    l: List of elements that support 'lambda x: x % 2'.\n",
    "    \n",
    "    Returns\n",
    "    -------\n",
    "    value of one of the number types\n",
    "        the sum of even integers.\n",
    "    '''\n",
    "    return summed(filtered_by(lambda x: x.data % 2 == 0, l))"
   ]
  },
  {
   "cell_type": "code",
   "execution_count": null,
   "metadata": {},
   "outputs": [],
   "source": [
    "import random\n",
    "\n",
    "random_list = as_linked_list(random.sample(range(10, 500, 5), k=10))\n",
    "print(random_list)\n",
    "print(filtered_by(lambda x: x.data % 2 == 0, random_list))\n",
    "print('sum:', sum_even_numbers(random_list))"
   ]
  },
  {
   "cell_type": "markdown",
   "metadata": {},
   "source": [
    "## Return a list with every other element\n",
    "\n",
    "Instead of doing it the direct way, we start by creating our own versions of `map` and `enumerate`."
   ]
  },
  {
   "cell_type": "code",
   "execution_count": null,
   "metadata": {},
   "outputs": [],
   "source": [
    "def mapped_with(function, l):\n",
    "    '''\n",
    "    Apply function to each element of the list.\n",
    "    \n",
    "    Parameters\n",
    "    ----------\n",
    "    function: any function (preferably pure) of type (a -> b).\n",
    "    \n",
    "    l: a List of elements of type a.\n",
    "    \n",
    "    Returns\n",
    "    -------\n",
    "    a List of elements of type b.\n",
    "    \n",
    "    Notes\n",
    "    -----\n",
    "    Can be used with a function of type (a -> a) since\n",
    "    (a -> a) is an instance of (a -> b).\n",
    "    '''\n",
    "    head_result = List(None)\n",
    "    head = head_result\n",
    "    while l is not None:\n",
    "        head.next = List(function(l.data))\n",
    "        l, head = l.next, head.next\n",
    "    return head_result.next"
   ]
  },
  {
   "cell_type": "code",
   "execution_count": null,
   "metadata": {},
   "outputs": [],
   "source": [
    "print(mapped_with(lambda x: x**2, random_list))"
   ]
  },
  {
   "cell_type": "markdown",
   "metadata": {},
   "source": [
    "We need to be able to `zip` lists to facilitate enumeration."
   ]
  },
  {
   "cell_type": "code",
   "execution_count": null,
   "metadata": {},
   "outputs": [],
   "source": [
    "def zipped(left, right):\n",
    "    '''\n",
    "    Combine two lists into a list of pairs.\n",
    "    \n",
    "    Parameters\n",
    "    ----------\n",
    "    left: List.\n",
    "    \n",
    "    right: List.\n",
    "    \n",
    "    Returns\n",
    "    -------\n",
    "    List\n",
    "        the data of each element of the list is a pair of data obtained\n",
    "        from iterating through both list at the same time.\n",
    "        \n",
    "    Notes\n",
    "    -----\n",
    "    The length of the list is equal to the length of the shortest list given as input.\n",
    "    '''\n",
    "    head = List(None)\n",
    "    result = head\n",
    "    while left is not None and right is not None:\n",
    "        result.next = List((left.data, right.data))\n",
    "        result, left, right = result.next, left.next, right.next\n",
    "    return head.next"
   ]
  },
  {
   "cell_type": "markdown",
   "metadata": {},
   "source": [
    "Indeed enumeration means to associate a range of indices (here from 0 to the length of the list - 1 to follow Pythonic conventions) with a list"
   ]
  },
  {
   "cell_type": "code",
   "execution_count": null,
   "metadata": {},
   "outputs": [],
   "source": [
    "def length(l):\n",
    "    result = 0\n",
    "    while l is not None:\n",
    "        result += 1\n",
    "        l = l.next\n",
    "    return result\n",
    "\n",
    "def enumerated(l):\n",
    "    return zipped(as_linked_list(range(length(l))), l)"
   ]
  },
  {
   "cell_type": "code",
   "execution_count": null,
   "metadata": {},
   "outputs": [],
   "source": [
    "print(zipped(random_list, mapped_with(lambda x: x**2, random_list)))"
   ]
  },
  {
   "cell_type": "code",
   "execution_count": null,
   "metadata": {},
   "outputs": [],
   "source": [
    "print(as_linked_list(range(6)))"
   ]
  },
  {
   "cell_type": "code",
   "execution_count": null,
   "metadata": {},
   "outputs": [],
   "source": [
    "my_enumerated_list = enumerated(my_list)\n",
    "print(my_enumerated_list)"
   ]
  },
  {
   "cell_type": "code",
   "execution_count": null,
   "metadata": {},
   "outputs": [],
   "source": [
    "print(filtered_by(lambda x: x.data[0] % 2 == 0, my_enumerated_list))"
   ]
  },
  {
   "cell_type": "markdown",
   "metadata": {},
   "source": [
    "We need to retrieve an enumerated list but it turns out that this is simply unzipping the lists."
   ]
  },
  {
   "cell_type": "code",
   "execution_count": null,
   "metadata": {},
   "outputs": [],
   "source": [
    "def unzip(l):\n",
    "    '''\n",
    "    Extract pairs of values from a list into two lists.\n",
    "    \n",
    "    Parameters\n",
    "    ----------\n",
    "    l: List of pairs.\n",
    "    \n",
    "    Returns\n",
    "    -------\n",
    "    (List, List)\n",
    "        the left list contains the left elements of the pairs while\n",
    "        the right list contains the right elements.\n",
    "    '''\n",
    "    head_left, head_right = List(None), List(None)\n",
    "    left, right = head_left, head_right\n",
    "    while l is not None:\n",
    "        left.next, right.next = List(l.data[0]), List(l.data[1])\n",
    "        l, left, right = l.next, left.next, right.next\n",
    "    return head_left.next, head_right.next"
   ]
  },
  {
   "cell_type": "code",
   "execution_count": null,
   "metadata": {},
   "outputs": [],
   "source": [
    "print(random_list)\n",
    "left, right = unzip(\n",
    "    filtered_by(lambda x: x.data[0] % 2 == 0, enumerated(random_list)))\n",
    "print(right)"
   ]
  },
  {
   "cell_type": "markdown",
   "metadata": {},
   "source": [
    "We can check that our implementations of `zip` and `unzip` (which is not implemented by default in Python) follow the law:\n",
    "```python\n",
    "a, b == unzip(zip(a, b))\n",
    "```"
   ]
  },
  {
   "cell_type": "code",
   "execution_count": null,
   "metadata": {},
   "outputs": [],
   "source": [
    "def equals(left, right):\n",
    "    '''\n",
    "    Test if two lists contain the same elements.\n",
    "    \n",
    "    Parameters\n",
    "    ----------\n",
    "    left: List.\n",
    "    \n",
    "    right: List.\n",
    "    \n",
    "    Returns\n",
    "    -------\n",
    "    bool\n",
    "        True only if both lists have the same length and contain the same elements\n",
    "        \n",
    "    Notes\n",
    "    -----\n",
    "    Assumes that lists contain values for which it makes sense\n",
    "    to test difference with '!='.\n",
    "    '''\n",
    "    while left is not None and right is not None:\n",
    "        if left.data != right.data:\n",
    "            return False\n",
    "        left, right = left.next, right.next\n",
    "    return True if left is None and right is None else False"
   ]
  },
  {
   "cell_type": "code",
   "execution_count": null,
   "metadata": {},
   "outputs": [],
   "source": [
    "new_left, new_right = unzip(zipped(left, right))\n",
    "print(equals(left, new_left), equals(right, new_right))"
   ]
  },
  {
   "cell_type": "code",
   "execution_count": null,
   "metadata": {},
   "outputs": [],
   "source": [
    "head = List(1)\n",
    "head.next = List(6)\n",
    "head.next.next = List(3)"
   ]
  },
  {
   "cell_type": "markdown",
   "metadata": {},
   "source": [
    "## In-place operations\n",
    "\n",
    "Describe how they differ from the read-only version that creates a list as output."
   ]
  },
  {
   "cell_type": "code",
   "execution_count": null,
   "metadata": {},
   "outputs": [],
   "source": [
    "def inplace_filter(condition, l):\n",
    "    '''\n",
    "    Removes elements that do not fulfill a condition.\n",
    "    \n",
    "    Parameters\n",
    "    ----------\n",
    "    condition: function of type (a -> bool)\n",
    "    \n",
    "    l: List of elements of type a\n",
    "    \n",
    "    Notes\n",
    "    -------\n",
    "    Modifies the input list in-place which means that it might shorten it.\n",
    "    '''\n",
    "    while l is not None and l.next is not None:\n",
    "        if not condition(l):\n",
    "            l.next = l.next.next\n",
    "        l = l.next"
   ]
  },
  {
   "cell_type": "code",
   "execution_count": null,
   "metadata": {},
   "outputs": [],
   "source": [
    "print(inplace_filter(lambda x: x.data % 2 == 1, as_linked_list(range(8))))"
   ]
  },
  {
   "cell_type": "code",
   "execution_count": null,
   "metadata": {},
   "outputs": [],
   "source": [
    "a = as_linked_list(range(7))\n",
    "print(a)\n",
    "inplace_filter(lambda x: x.data % 2 == 0, a)\n",
    "print(a)"
   ]
  },
  {
   "cell_type": "code",
   "execution_count": null,
   "metadata": {},
   "outputs": [],
   "source": [
    "summed(a)"
   ]
  },
  {
   "cell_type": "markdown",
   "metadata": {},
   "source": [
    "## Inplace squashing\n",
    "\n",
    "Here we need more assumptions on our input for the computation to make sense."
   ]
  },
  {
   "cell_type": "code",
   "execution_count": null,
   "metadata": {},
   "outputs": [],
   "source": [
    "def inplace_squash_with(operation, list_of_even_length):\n",
    "    '''\n",
    "    Combine successive pairs of elements with an operation.\n",
    "    \n",
    "    Parameters\n",
    "    ----------\n",
    "    operation: function of type ((a, a) -> b).\n",
    "    \n",
    "    list_of_even_length: List of elements of type a\n",
    "        assumed to be of even length in order to combine every pair.\n",
    "    \n",
    "    Returns\n",
    "    -------\n",
    "    List of elements of type b\n",
    "        modifies the input list in-place and halves its length.\n",
    "    '''\n",
    "    l = list_of_even_length\n",
    "    while l is not None and l.next is not None:\n",
    "        l.data = operation(l.data, l.next.data)\n",
    "        l.next = l.next.next\n",
    "        l = l.next\n",
    "\n",
    "def inplace_squash_sum(l):\n",
    "    return inplace_squash_with(lambda a, b: a + b, l)"
   ]
  },
  {
   "cell_type": "code",
   "execution_count": null,
   "metadata": {},
   "outputs": [],
   "source": [
    "test_range = as_linked_list(range(1,8))\n",
    "print(test_range)\n",
    "inplace_squash_with(lambda a, b: a + b, test_range)\n",
    "print(test_range)"
   ]
  },
  {
   "cell_type": "code",
   "execution_count": null,
   "metadata": {},
   "outputs": [],
   "source": [
    "test_range = as_linked_list(range(2,10))\n",
    "print(test_range)\n",
    "inplace_squash_with(lambda a, b: f'eval({a}+{b})', test_range)\n",
    "print(test_range)"
   ]
  },
  {
   "cell_type": "markdown",
   "metadata": {},
   "source": [
    "## Representing a set by a linked list without duplicates"
   ]
  },
  {
   "cell_type": "code",
   "execution_count": null,
   "metadata": {},
   "outputs": [],
   "source": [
    "def concatenated(left, right):\n",
    "    '''\n",
    "    Create a list obtained by extending one with another.\n",
    "    \n",
    "    Parameters\n",
    "    ----------\n",
    "    left: List.\n",
    "    \n",
    "    right: List.\n",
    "    \n",
    "    Returns\n",
    "    -------\n",
    "    List\n",
    "        concatenation of left and right.\n",
    "    '''\n",
    "    head = List(None)\n",
    "    result = head\n",
    "    while left is not None:\n",
    "        result.next = List(left.data)\n",
    "        result, left = result.next, left.next\n",
    "    while right is not None:\n",
    "        result.next = List(right.data)\n",
    "        result, right = result.next, right.next\n",
    "    return head.next\n",
    "\n",
    "def belongs_to(l, elem):\n",
    "    '''\n",
    "    Test membership to a list.\n",
    "    \n",
    "    Parameters\n",
    "    ----------\n",
    "    l: List.\n",
    "    \n",
    "    elem: value of type a\n",
    "        content that could be found in l.\n",
    "        \n",
    "    Returns\n",
    "    -------\n",
    "    bool\n",
    "        True if an element of the list is equal to elem.\n",
    "        \n",
    "    Notes\n",
    "    -----\n",
    "    Does not support multiple indirections.\n",
    "    '''\n",
    "    while l is not None:\n",
    "        if l.data == elem:\n",
    "            return True\n",
    "        l = l.next\n",
    "    return False\n",
    "\n",
    "def without_duplicates(l):\n",
    "    '''\n",
    "    Create a list from another without duplicate elements.\n",
    "    \n",
    "    Parameters\n",
    "    ----------\n",
    "    l: List.\n",
    "    \n",
    "    Returns\n",
    "    -------\n",
    "    List\n",
    "        the new list does not contain duplicate elements and so\n",
    "        is assured to be non-empty if the input list is non-empty.\n",
    "    '''\n",
    "    head = List(None)\n",
    "    result = head\n",
    "    while l is not None:\n",
    "        if not belongs_to(head, l.data):\n",
    "            result.next = List(l.data)\n",
    "            result = result.next\n",
    "        l = l.next\n",
    "    return head.next\n",
    "\n",
    "def set_union(l1, l2):\n",
    "    return with_duplicates(concatenated(l1, l2))"
   ]
  },
  {
   "cell_type": "code",
   "execution_count": null,
   "metadata": {},
   "outputs": [],
   "source": [
    "a = as_linked_list(range(1,7))\n",
    "b = as_linked_list(range(3, 12, 2))\n",
    "print(a, b)\n",
    "c = concatenated(a, b)\n",
    "print(a, b, c)"
   ]
  },
  {
   "cell_type": "code",
   "execution_count": null,
   "metadata": {},
   "outputs": [],
   "source": [
    "belongs_to(c, 18)"
   ]
  },
  {
   "cell_type": "code",
   "execution_count": null,
   "metadata": {},
   "outputs": [],
   "source": [
    "print(without_duplicates(c))"
   ]
  },
  {
   "cell_type": "code",
   "execution_count": null,
   "metadata": {},
   "outputs": [],
   "source": [
    "print(without_duplicates(\n",
    "    concatenated(as_linked_list([5,1,2,3]),\n",
    "                as_linked_list([6,2,3])\n",
    "    )))"
   ]
  },
  {
   "cell_type": "code",
   "execution_count": null,
   "metadata": {},
   "outputs": [],
   "source": [
    "print(filtered_by(lambda x: x.data >= 6, as_linked_list([5,6,7,1,8,2,1])))"
   ]
  },
  {
   "cell_type": "code",
   "execution_count": null,
   "metadata": {},
   "outputs": [],
   "source": [
    "class Directory:\n",
    "    def __init__(self, uid, zipcode, firstname, lastname):\n",
    "        '''\n",
    "        directory represented as a linked list containing:\n",
    "        - a unique identifier\n",
    "        - zipcode information\n",
    "        - first and last names.\n",
    "        '''\n",
    "        self.uid = uid\n",
    "        self.zipcode = zipcode\n",
    "        self.firstname = firstname\n",
    "        self.lastname = lastname\n",
    "        self.next = None\n",
    "    \n",
    "    def __str__(self):\n",
    "        '''\n",
    "        String representation of a directory.\n",
    "        '''\n",
    "        values = '%[\\n'\n",
    "        l = self\n",
    "        while l is not None:\n",
    "            values += f' #{l.uid}: {l.firstname} {l.lastname} | zipcode: {l.zipcode} \\n'\n",
    "            l = l.next\n",
    "        values += '%]'\n",
    "        return values"
   ]
  },
  {
   "cell_type": "code",
   "execution_count": null,
   "metadata": {},
   "outputs": [],
   "source": [
    "me = Directory(1919, 75, 'Paul', 'Beaujean')\n",
    "tristan = Directory(5654, 75, 'Tristan', 'Cazenave')\n",
    "hawking = Directory(1111, 3, 'Stephen', 'Hawking')\n",
    "me.next = tristan\n",
    "tristan.next = hawking\n",
    "directory = me\n",
    "\n",
    "print(directory)"
   ]
  },
  {
   "cell_type": "code",
   "execution_count": null,
   "metadata": {},
   "outputs": [],
   "source": [
    "def directory_filtered_by(condition, l):\n",
    "    '''\n",
    "    Directory of all entries that fulfill the condition.\n",
    "    \n",
    "    Parameters\n",
    "    ----------\n",
    "    condition: function of type (List -> bool).\n",
    "    \n",
    "    l: Dictionary to be filtered\n",
    "    \n",
    "    Returns\n",
    "    -------\n",
    "    Dictionary\n",
    "        containing the elements for which the condition is True.\n",
    "    \n",
    "    Notes\n",
    "    -----\n",
    "    If no element fulfills the condition, the returned directory will be empty.\n",
    "    '''\n",
    "    head = Directory(None, None, None, None)\n",
    "    result = head\n",
    "    while l is not None:\n",
    "        if condition(l):\n",
    "            result.next = Directory(l.uid, l.zipcode, l.firstname, l.lastname)\n",
    "            result = result.next\n",
    "        l = l.next\n",
    "    return head.next\n",
    "\n",
    "print(directory_filtered_by(lambda x: x.zipcode == 75, directory))"
   ]
  },
  {
   "cell_type": "code",
   "execution_count": null,
   "metadata": {},
   "outputs": [],
   "source": [
    "def minimum(before, l):\n",
    "    '''\n",
    "    Find the cell of a linked list containing the smallest value.\n",
    "    \n",
    "    Parameters\n",
    "    ----------\n",
    "    before: function of type ((a, a) -> bool)\n",
    "        returns True if the first argument is \"before\" the second.\n",
    "    \n",
    "    l: linked list of elements of type a.\n",
    "    \n",
    "    Returns\n",
    "    -------\n",
    "    linked list\n",
    "        the position of the minimum value in the list.\n",
    "    '''\n",
    "    minimum = l\n",
    "    while l is not None:\n",
    "        if before(l, minimum):\n",
    "            minimum = l\n",
    "        l = l.next\n",
    "    return minimum\n",
    "\n",
    "def maximum(before, l):\n",
    "    return minimum(lambda a, b: not before(a, b), l)"
   ]
  },
  {
   "cell_type": "code",
   "execution_count": null,
   "metadata": {},
   "outputs": [],
   "source": [
    "def by(key):\n",
    "    return lambda a, b: eval(f'a.{key}') < eval(f'b.{key}')"
   ]
  },
  {
   "cell_type": "code",
   "execution_count": null,
   "metadata": {},
   "outputs": [],
   "source": [
    "print(maximum(by('uid'), directory))\n",
    "print(maximum(by('lastname'), directory))"
   ]
  },
  {
   "cell_type": "code",
   "execution_count": null,
   "metadata": {},
   "outputs": [],
   "source": [
    "def swap_contents(this, that):\n",
    "    '''\n",
    "    Swap the contents of two directory entries.\n",
    "    \n",
    "    Parameters\n",
    "    ----------\n",
    "    one: Directory\n",
    "    \n",
    "    other: Directory\n",
    "    \n",
    "    Notes\n",
    "    -----\n",
    "    In case one of the two is None, does not swap.\n",
    "    \n",
    "    '''\n",
    "    if this is not None and that is not None:\n",
    "        (this.uid, this.zipcode, this.firstname, this.lastname,\n",
    "         that.uid, that.zipcode, that.firstname, that.lastname) = (\n",
    "         that.uid, that.zipcode, that.firstname, that.lastname, \n",
    "         this.uid, this.zipcode, this.firstname, this.lastname)\n",
    "\n",
    "def inplace_selection_sort(by_what, l):\n",
    "    '''\n",
    "    Sort a Directory by selection sort.\n",
    "    \n",
    "    Parameters\n",
    "    ----------\n",
    "    by_what: function of type ((a, a) -> bool)\n",
    "        return True if the first argument is \"before\" the second.\n",
    "    \n",
    "    l: Directory.\n",
    "    '''\n",
    "    while l is not None:\n",
    "        current_minimum = minimum(by_what, l)\n",
    "        swap_contents(l, current_minimum)\n",
    "        l = l.next\n",
    "\n",
    "def copied(l):\n",
    "    '''\n",
    "    Construct a list with the same content as the input list.\n",
    "    \n",
    "    Parameters\n",
    "    ----------\n",
    "    l: Directory.\n",
    "    '''\n",
    "    head = Directory(None, None, None, None)\n",
    "    result = head  \n",
    "    while l is not None:\n",
    "        result.next = Directory(l.uid, l.zipcode, l.firstname, l.lastname)\n",
    "        l, result = l.next, result.next\n",
    "    return head.next"
   ]
  },
  {
   "cell_type": "code",
   "execution_count": null,
   "metadata": {},
   "outputs": [],
   "source": [
    "dir_by_uid = copied(directory)\n",
    "print(dir_by_uid)\n",
    "inplace_selection_sort(by('uid'), dir_by_uid)\n",
    "print(dir_by_uid)"
   ]
  },
  {
   "cell_type": "code",
   "execution_count": null,
   "metadata": {},
   "outputs": [],
   "source": [
    "dir_by_firstname = copied(directory)\n",
    "print(dir_by_firstname)\n",
    "inplace_selection_sort(by('firstname'), dir_by_firstname)\n",
    "print(dir_by_firstname)"
   ]
  },
  {
   "cell_type": "code",
   "execution_count": null,
   "metadata": {},
   "outputs": [],
   "source": [
    "def selection_sorted(compare, l):\n",
    "    '''\n",
    "    Create a sorted Dictionary by selection sort.\n",
    "    \n",
    "    Parameters\n",
    "    ----------\n",
    "    compare: function of type ((a, a) -> bool)\n",
    "        return True if the first argument is \"before\" the second.\n",
    "    \n",
    "    l: Directory.\n",
    "    '''\n",
    "    copy = copied(l)\n",
    "    inplace_selection_sort(compare, copy)\n",
    "    return copy"
   ]
  },
  {
   "cell_type": "code",
   "execution_count": null,
   "metadata": {},
   "outputs": [],
   "source": [
    "print('input', directory)\n",
    "print('output', selection_sorted(by('uid'), directory))"
   ]
  },
  {
   "cell_type": "code",
   "execution_count": null,
   "metadata": {},
   "outputs": [],
   "source": [
    "from string import ascii_uppercase, ascii_lowercase\n",
    "\n",
    "def as_directory(container):\n",
    "    '''\n",
    "    Create a Directory filled with random information and specified uids from a given container.\n",
    "    \n",
    "    Parameters\n",
    "    ----------\n",
    "    container: any object supporting the 'for ... in ...' syntax.\n",
    "    \n",
    "    Returns\n",
    "    -------\n",
    "    Directory\n",
    "        a 'Directory' with uids obtained from the container and random data.\n",
    "    '''\n",
    "    head = Directory(None, None, None, None)\n",
    "    result = head\n",
    "    for i in container:\n",
    "        result.next = Directory(i,\n",
    "            int(''.join(map(str, random.sample(range(10), k=4)))),\n",
    "            ''.join(random.sample(ascii_uppercase, k=1) + random.sample(ascii_lowercase, k=3)),\n",
    "            ''.join(random.sample(ascii_uppercase, k=1) + random.sample(ascii_lowercase, k=3)))\n",
    "        result = result.next\n",
    "    return head.next"
   ]
  },
  {
   "cell_type": "code",
   "execution_count": null,
   "metadata": {},
   "outputs": [],
   "source": [
    "random_dir = as_directory(random.sample(range(10), k=5))\n",
    "print(random_dir)"
   ]
  },
  {
   "cell_type": "code",
   "execution_count": null,
   "metadata": {},
   "outputs": [],
   "source": [
    "print(random_dir,\n",
    "      selection_sorted(by('uid'), random_dir),\n",
    "      selection_sorted(by('uid'),\n",
    "                     selection_sorted(by('uid'), random_dir)))"
   ]
  },
  {
   "cell_type": "code",
   "execution_count": null,
   "metadata": {},
   "outputs": [],
   "source": [
    "def generic_filter(condition, l):\n",
    "    '''\n",
    "    Linked list of all entries that fulfill the condition.\n",
    "    \n",
    "    Parameters\n",
    "    ----------\n",
    "    condition: function of type (linked list -> bool).\n",
    "    \n",
    "    l: linked list to be filtered\n",
    "    \n",
    "    Returns\n",
    "    -------\n",
    "    linked list\n",
    "        containing the elements for which the condition is True.\n",
    "    \n",
    "    Notes\n",
    "    -----\n",
    "    If no element fulfills the condition, the returned linked list will be empty.\n",
    "    '''\n",
    "    L = l.__class__\n",
    "    number_of_args = len(L.__init__.__code__.co_varnames) - 1\n",
    "    \n",
    "    head = L(*([None] * number_of_args))\n",
    "    result = head\n",
    "    while l is not None:\n",
    "        if condition(l):\n",
    "            result.next = L(*map(eval, [f'l.{key}' for key in l.__dict__ if key != 'next']))\n",
    "            result = result.next\n",
    "        l = l.next\n",
    "    return head.next\n",
    "\n",
    "print(generic_filter(lambda x: x.data % 2 == 1, my_list))\n",
    "print(generic_filter(lambda x: x.uid % 2 == 1, random_dir))"
   ]
  }
 ],
 "metadata": {
  "kernelspec": {
   "display_name": "Python 3",
   "language": "python",
   "name": "python3"
  },
  "language_info": {
   "codemirror_mode": {
    "name": "ipython",
    "version": 3
   },
   "file_extension": ".py",
   "mimetype": "text/x-python",
   "name": "python",
   "nbconvert_exporter": "python",
   "pygments_lexer": "ipython3",
   "version": "3.6.4"
  }
 },
 "nbformat": 4,
 "nbformat_minor": 2
}
